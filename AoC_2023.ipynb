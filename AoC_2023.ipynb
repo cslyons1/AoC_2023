{
  "nbformat": 4,
  "nbformat_minor": 0,
  "metadata": {
    "colab": {
      "provenance": [],
      "collapsed_sections": [
        "5QAjcw7b8Usl",
        "e5LYakic-3RJ",
        "u1rhjNEUGJ07",
        "2jfllB_0sX3O",
        "jI4FVbVPyxte"
      ],
      "toc_visible": true
    },
    "kernelspec": {
      "name": "python3",
      "display_name": "Python 3"
    },
    "language_info": {
      "name": "python"
    }
  },
  "cells": [
    {
      "cell_type": "markdown",
      "source": [
        "# **Advent of Code 2023**"
      ],
      "metadata": {
        "id": "LGo11LDe8OjZ"
      }
    },
    {
      "cell_type": "code",
      "source": [
        "import os\n",
        "import re\n",
        "import math"
      ],
      "metadata": {
        "id": "RnaBRl5j_Esx"
      },
      "execution_count": null,
      "outputs": []
    },
    {
      "cell_type": "markdown",
      "source": [
        "## Day 1"
      ],
      "metadata": {
        "id": "5QAjcw7b8Usl"
      }
    },
    {
      "cell_type": "markdown",
      "source": [
        "Part 1"
      ],
      "metadata": {
        "id": "eTND01Fu8ZN7"
      }
    },
    {
      "cell_type": "code",
      "source": [
        "import re\n",
        "document = open(\"drive/MyDrive/Advent of Code 2023/2023day1.txt\", \"r\")\n",
        "calibration_numbers = []\n",
        "for line in document:\n",
        "  line.strip()\n",
        "  str_line = re.sub(\"[^0-9]\", \"\", line)\n",
        "  ind_numbers = str_line[0] + str_line[-1]\n",
        "  calibration_numbers.append(int(ind_numbers))\n",
        "\n",
        "answer = f\"Part 1: {sum(calibration_numbers)}\"\n",
        "\n",
        "print(answer)"
      ],
      "metadata": {
        "colab": {
          "base_uri": "https://localhost:8080/"
        },
        "id": "SgC_7dSi79dX",
        "outputId": "34e90399-1b89-4c95-d2f2-1d41b43a8447"
      },
      "execution_count": null,
      "outputs": [
        {
          "output_type": "stream",
          "name": "stdout",
          "text": [
            "Part 1: 54081\n"
          ]
        }
      ]
    },
    {
      "cell_type": "markdown",
      "source": [
        "Part 2"
      ],
      "metadata": {
        "id": "2SsDQ7p-8clg"
      }
    },
    {
      "cell_type": "code",
      "source": [
        "import re\n",
        "document = open(\"drive/MyDrive/Advent of Code 2023/2023day1.txt\", \"r\")\n",
        "lines = []\n",
        "new_calibration_numbers = []\n",
        "num_dict = {\n",
        "    'one': 'o1e',\n",
        "    'two': 't2o',\n",
        "    'three': 't3e',\n",
        "    'four': 'f4r',\n",
        "    'five': 'f5e',\n",
        "    'six': 's6x',\n",
        "    'seven': 's7n',\n",
        "    'eight': 'e8t',\n",
        "    'nine': 'n9e',\n",
        "    'zero': 'z0o'\n",
        "}\n",
        "\n",
        "for line in document:\n",
        "  lines.append(line.rstrip())\n",
        "\n",
        "for line in lines:\n",
        "  for word, digit in num_dict.items():\n",
        "    line = line.replace(word, digit)\n",
        "  new_nums = re.sub(\"[^0-9]\", \"\", line)\n",
        "  duh = new_nums[0] + new_nums[-1]\n",
        "  new_calibration_numbers.append(int(duh))\n",
        "\n",
        "answer = f\"Part 2: {sum(new_calibration_numbers)}\"\n",
        "\n",
        "print(answer)"
      ],
      "metadata": {
        "colab": {
          "base_uri": "https://localhost:8080/"
        },
        "id": "X2k2SUSR8Dtd",
        "outputId": "387283b0-7ff1-41fa-b02e-4ed6a85910cb"
      },
      "execution_count": null,
      "outputs": [
        {
          "output_type": "stream",
          "name": "stdout",
          "text": [
            "Part 2: 54649\n"
          ]
        }
      ]
    },
    {
      "cell_type": "markdown",
      "source": [
        "## Day 2"
      ],
      "metadata": {
        "id": "e5LYakic-3RJ"
      }
    },
    {
      "cell_type": "markdown",
      "source": [
        "Part 1"
      ],
      "metadata": {
        "id": "SwvahHI4-9kA"
      }
    },
    {
      "cell_type": "code",
      "source": [
        "import re\n",
        "def cube_counter(document):\n",
        "  cube_limits = {'red': 12, 'green': 13, 'blue': 14}\n",
        "  count = 0\n",
        "\n",
        "  for id, game in enumerate(document.strip().split('\\n'), start = 1):\n",
        "    for num, color in re.findall(r'(\\d+) (red|blue|green)', game):\n",
        "      if cube_limits[color] < int(num):\n",
        "        break\n",
        "    else:\n",
        "      count += id\n",
        "  return count\n",
        "\n",
        "document = open(\"drive/MyDrive/Advent of Code 2023/2023day2.txt\", \"r\").read()\n",
        "print(f\"Part 1: {cube_counter(document)}\")"
      ],
      "metadata": {
        "id": "I-jwrQU1-6ws",
        "colab": {
          "base_uri": "https://localhost:8080/"
        },
        "outputId": "4db4d581-368a-455d-fd21-7784331b3a74"
      },
      "execution_count": null,
      "outputs": [
        {
          "output_type": "stream",
          "name": "stdout",
          "text": [
            "Part 1: 2632\n"
          ]
        }
      ]
    },
    {
      "cell_type": "markdown",
      "source": [
        "Part 2"
      ],
      "metadata": {
        "id": "mWcrYGN2--5n"
      }
    },
    {
      "cell_type": "code",
      "source": [
        "import re\n",
        "def cube_max(document):\n",
        "  count = 0\n",
        "  for game in document.strip().split('\\n'):\n",
        "    max_cube_number = {'red': 0, 'green': 0, 'blue': 0}\n",
        "    for num, color in re.findall(r'(\\d+) (red|blue|green)', game):\n",
        "      max_cube_number[color] = max(int(num), max_cube_number[color])\n",
        "\n",
        "    count += math.prod(max_cube_number.values())\n",
        "  return count\n",
        "\n",
        "document = open(\"drive/MyDrive/Advent of Code 2023/2023day2.txt\", \"r\").read()\n",
        "print(f\"Part 2: {cube_max(document)}\")"
      ],
      "metadata": {
        "id": "6wdX3tQC_Asv",
        "colab": {
          "base_uri": "https://localhost:8080/"
        },
        "outputId": "0b0dffc4-64e9-4a82-d2a3-c829edc0f5e5"
      },
      "execution_count": null,
      "outputs": [
        {
          "output_type": "stream",
          "name": "stdout",
          "text": [
            "Part 2: 69629\n"
          ]
        }
      ]
    },
    {
      "cell_type": "markdown",
      "source": [
        "## Day 3"
      ],
      "metadata": {
        "id": "u1rhjNEUGJ07"
      }
    },
    {
      "cell_type": "markdown",
      "source": [
        "Part 1"
      ],
      "metadata": {
        "id": "BKI0nnc9GNHq"
      }
    },
    {
      "cell_type": "code",
      "source": [
        "document = open(\"drive/MyDrive/Advent of Code 2023/2023day3.txt\", \"r\").read()\n",
        "\n",
        "lines = document.strip().split('\\n')\n",
        "\n",
        "all_rows = len(lines)\n",
        "all_columns = len(lines[0])\n",
        "def symbol_finder(row, column):\n",
        "  if (0 <= row < all_rows and 0 <= column < all_columns):\n",
        "    return lines[row][column] != '.' and not lines[row][column].isdigit()\n",
        "  return False\n",
        "\n",
        "part_number_sum = 0\n",
        "\n",
        "for row, line in enumerate(lines):\n",
        "  part_start = 0\n",
        "  column = 0\n",
        "\n",
        "  while column < all_columns:\n",
        "    part_start = column\n",
        "    part_number = ''\n",
        "    while column < all_columns and line[column].isdigit():\n",
        "      part_number += line[column]\n",
        "      column += 1\n",
        "\n",
        "    if part_number == '':\n",
        "      column += 1\n",
        "      continue\n",
        "\n",
        "    part_number = int(part_number)\n",
        "\n",
        "    if symbol_finder(row, part_start - 1) or symbol_finder(row, column):\n",
        "      part_number_sum += part_number\n",
        "      continue\n",
        "\n",
        "    for each_space in range(part_start - 1, column + 1):\n",
        "      if symbol_finder(row - 1, each_space) or symbol_finder(row + 1, each_space):\n",
        "        part_number_sum += part_number\n",
        "        break\n",
        "\n",
        "\n",
        "print(f\"Part 1: {part_number_sum}\")"
      ],
      "metadata": {
        "colab": {
          "base_uri": "https://localhost:8080/"
        },
        "id": "iZ7G6ngqn6RG",
        "outputId": "e13a14d2-dd25-42c9-fb00-5b2a138d70b0"
      },
      "execution_count": null,
      "outputs": [
        {
          "output_type": "stream",
          "name": "stdout",
          "text": [
            "Part 1: 535078\n"
          ]
        }
      ]
    },
    {
      "cell_type": "markdown",
      "source": [
        "Part 2"
      ],
      "metadata": {
        "id": "k5sj6L1hGQQE"
      }
    },
    {
      "cell_type": "code",
      "source": [
        "document = open(\"drive/MyDrive/Advent of Code 2023/2023day3.txt\", \"r\").read()\n",
        "\n",
        "lines = document.strip().split('\\n')\n",
        "\n",
        "all_rows = len(lines)\n",
        "all_columns = len(lines[0])\n",
        "\n",
        "\n",
        "locator = [[[] for _ in range(all_columns)] for _ in range(all_rows)]\n",
        "\n",
        "def symbol_finder(row, column, part_number):\n",
        "    if not (0 <= row < all_rows and 0 <= column < all_columns):\n",
        "        return False\n",
        "\n",
        "    if lines[row][column] == '*':\n",
        "        locator[row][column].append(part_number)\n",
        "    return lines[row][column] != \".\" and not lines[row][column].isdigit()\n",
        "\n",
        "gear_ratio = 0\n",
        "\n",
        "for row, line in enumerate(lines):\n",
        "    part_number_start = 0\n",
        "\n",
        "    column = 0\n",
        "\n",
        "    while column < all_columns:\n",
        "        part_number_start = column\n",
        "        part_number = ''\n",
        "        while column < all_columns and line[column].isdigit():\n",
        "            part_number += line[column]\n",
        "            column += 1\n",
        "\n",
        "        if part_number == '':\n",
        "            column += 1\n",
        "            continue\n",
        "\n",
        "        part_number = int(part_number)\n",
        "\n",
        "        symbol_finder(row, part_number_start-1, part_number) or symbol_finder(row, column, part_number)\n",
        "\n",
        "        for each_space in range(part_number_start-1, column+1):\n",
        "            symbol_finder(row-1, each_space, part_number) or symbol_finder(row+1, each_space, part_number)\n",
        "\n",
        "for row in range(all_rows):\n",
        "    for column in range(all_columns):\n",
        "        gears = locator[row][column]\n",
        "        if lines[row][column] == '*' and len(gears) == 2:\n",
        "            gear_ratio += gears[0] * gears[1]\n",
        "\n",
        "print(f\"Part 2: {gear_ratio}\")"
      ],
      "metadata": {
        "colab": {
          "base_uri": "https://localhost:8080/"
        },
        "id": "ezUikCegGSUR",
        "outputId": "1cd67a9f-a572-4706-b0d9-2b87e9f738fe"
      },
      "execution_count": null,
      "outputs": [
        {
          "output_type": "stream",
          "name": "stdout",
          "text": [
            "Part 2: 75312571\n"
          ]
        }
      ]
    },
    {
      "cell_type": "markdown",
      "source": [
        "## Day 4"
      ],
      "metadata": {
        "id": "IfYuhZKGsSrA"
      }
    },
    {
      "cell_type": "markdown",
      "source": [
        "Part 1"
      ],
      "metadata": {
        "id": "B6JbawpKsWPT"
      }
    },
    {
      "cell_type": "code",
      "source": [
        "import re\n",
        "document = open(\"drive/MyDrive/Advent of Code 2023/2023day4.txt\", \"r\").read()\n",
        "\n",
        "lines = document.strip().split('\\n')\n",
        "total_winnings = 0\n",
        "\n",
        "for game in lines:\n",
        "  game = re.sub(r'^.*:\\s*', '', str(game))\n",
        "  game_pieces = re.split('\\s+', str(game))\n",
        "\n",
        "  winning_numbers = list(map(int, game_pieces[0:10]))\n",
        "  elf_numbers = list(map(int, game_pieces[11:]))\n",
        "\n",
        "  count = 0\n",
        "  for number in elf_numbers:\n",
        "    if number in winning_numbers:\n",
        "      count += 1\n",
        "\n",
        "  if count > 0:\n",
        "    total_winnings += 2**(count - 1)\n",
        "\n",
        "print(f\"Part 1: {total_winnings}\")"
      ],
      "metadata": {
        "colab": {
          "base_uri": "https://localhost:8080/"
        },
        "id": "OkMo6HuIsXOY",
        "outputId": "4e0c78e7-f935-4b07-ec73-09fa27d00d37"
      },
      "execution_count": null,
      "outputs": [
        {
          "output_type": "stream",
          "name": "stdout",
          "text": [
            "Part 1: 24175\n"
          ]
        }
      ]
    },
    {
      "cell_type": "markdown",
      "source": [
        "Part 2"
      ],
      "metadata": {
        "id": "Pt-PFaRVsXc2"
      }
    },
    {
      "cell_type": "code",
      "source": [
        "import re\n",
        "document = open(\"drive/MyDrive/Advent of Code 2023/2023day4.txt\", \"r\").read()\n",
        "\n",
        "lines = document.split('\\n')\n",
        "cards = [1] * len(lines)\n",
        "\n",
        "for id, game in enumerate(lines):\n",
        "  game = re.sub(r'^.*:\\s*', '', str(game))\n",
        "  game_pieces = re.split('\\s+', str(game))\n",
        "\n",
        "  winning_numbers = list(map(int, game_pieces[0:10]))\n",
        "  elf_numbers = list(map(int, game_pieces[11:]))\n",
        "\n",
        "  overlap = set(winning_numbers) & set(elf_numbers)\n",
        "  for n in range(len(overlap)):\n",
        "    cards[id+n+1] += cards[id]\n",
        "\n",
        "total_ = sum(cards)\n",
        "print(f\"Part 2: {total_}\")\n"
      ],
      "metadata": {
        "colab": {
          "base_uri": "https://localhost:8080/"
        },
        "id": "kiMyEc-Dpn2h",
        "outputId": "8cb3ffff-76f8-44c4-d7ab-f7dd8e56dbfb"
      },
      "execution_count": null,
      "outputs": [
        {
          "output_type": "stream",
          "name": "stdout",
          "text": [
            "Part 2: 18846301\n"
          ]
        }
      ]
    },
    {
      "cell_type": "markdown",
      "source": [
        "## Day 5"
      ],
      "metadata": {
        "id": "2jfllB_0sX3O"
      }
    },
    {
      "cell_type": "markdown",
      "source": [
        "Part 1"
      ],
      "metadata": {
        "id": "13K1DxqIsbH8"
      }
    },
    {
      "cell_type": "code",
      "source": [
        "import re\n",
        "document = open(\"drive/MyDrive/Advent of Code 2023/2023day5.txt\", \"r\").read()\n",
        "\n",
        "maps = document.split('\\n\\n')\n",
        "seeds = re.findall(r'\\d+', maps[0])\n",
        "\n",
        "min_location = float('inf')\n",
        "for x in map(int, seeds):\n",
        "    for seg in maps[1:]:\n",
        "        for conversion in re.findall(r'(\\d+) (\\d+) (\\d+)', seg):\n",
        "            destination, start, delta = map(int, conversion)\n",
        "            if x in range(start, start + delta):\n",
        "                x += destination - start\n",
        "                break\n",
        "\n",
        "    min_location = min(x, min_location)\n",
        "\n",
        "print(f\"Part 1: {min_location}\")"
      ],
      "metadata": {
        "id": "Qz1_JBGFscjP",
        "colab": {
          "base_uri": "https://localhost:8080/"
        },
        "outputId": "f025e97e-3cff-4c9b-e73c-f07d61140921"
      },
      "execution_count": null,
      "outputs": [
        {
          "output_type": "stream",
          "name": "stdout",
          "text": [
            "Part 1: 340994526\n"
          ]
        }
      ]
    },
    {
      "cell_type": "markdown",
      "source": [
        "Part 2"
      ],
      "metadata": {
        "id": "-tJ11rp_sc1B"
      }
    },
    {
      "cell_type": "code",
      "source": [
        "import re\n",
        "document = open(\"drive/MyDrive/Advent of Code 2023/2023day5.txt\", \"r\").read()\n",
        "\n",
        "maps = document.split('\\n\\n')\n",
        "intervals = []\n",
        "\n",
        "for seed in re.findall(r'(\\d+) (\\d+)', maps[0]):\n",
        "    x1, dx = map(int, seed)\n",
        "    x2 = x1 + dx\n",
        "    intervals.append((x1, x2, 1))\n",
        "\n",
        "min_location = float('inf')\n",
        "while intervals:\n",
        "    x1, x2, level = intervals.pop()\n",
        "    if level == 8:\n",
        "        min_location = min(x1, min_location)\n",
        "        continue\n",
        "\n",
        "    for conversion in re.findall(r'(\\d+) (\\d+) (\\d+)', maps[level]):\n",
        "        z, y1, dy = map(int, conversion)\n",
        "        y2 = y1 + dy\n",
        "        diff = z - y1\n",
        "        #no overlap\n",
        "        if x2 <= y1 or y2 <= x1:\n",
        "            continue\n",
        "        #split original interval at y1\n",
        "        if x1 < y1:\n",
        "            intervals.append((x1, y1, level))\n",
        "            x1 = y1\n",
        "        #split original interval at y2\n",
        "        if y2 < x2:\n",
        "            intervals.append((y2, x2, level))\n",
        "            x2 = y2\n",
        "        #perfect overlap -> make conversion and let pass to next\n",
        "        intervals.append((x1 + diff, x2 + diff, level + 1))\n",
        "        break\n",
        "\n",
        "    else:\n",
        "        intervals.append((x1, x2, level + 1))\n",
        "\n",
        "print(f\"Part 2: {min_location}\")"
      ],
      "metadata": {
        "id": "O7L9zbf-sdzL",
        "colab": {
          "base_uri": "https://localhost:8080/"
        },
        "outputId": "7ab7444e-61ea-4856-c365-03e497fe1e61"
      },
      "execution_count": null,
      "outputs": [
        {
          "output_type": "stream",
          "name": "stdout",
          "text": [
            "Part 2: 52210644\n"
          ]
        }
      ]
    },
    {
      "cell_type": "markdown",
      "source": [
        "## Day 6"
      ],
      "metadata": {
        "id": "jI4FVbVPyxte"
      }
    },
    {
      "cell_type": "markdown",
      "source": [
        "Part 1"
      ],
      "metadata": {
        "id": "BRB7EYXjy0WO"
      }
    },
    {
      "cell_type": "code",
      "source": [
        "import re\n",
        "document = open(\"drive/MyDrive/Advent of Code 2023/2023day6.txt\", \"r\").read()\n",
        "\n",
        "split_ = document.split(\"\\n\")\n",
        "\n",
        "times = []\n",
        "distances = []\n",
        "\n",
        "time = split_[0].split(\":\")\n",
        "distance = split_[1].split(\":\")\n",
        "\n",
        "for x in time:\n",
        "  nums = re.findall(\"(\\d+)\", x)\n",
        "  times.append(nums)\n",
        "\n",
        "for y in distance:\n",
        "  nums_ = re.findall(\"(\\d+)\", y)\n",
        "  distances.append(nums_)\n",
        "\n",
        "def race_breaker(time_val, dist_val):\n",
        "  _all_ = []\n",
        "  _speed_ = 0\n",
        "  while _speed_ < int(time_val):\n",
        "    _speed_ += 1\n",
        "    _hold_ = (int(time_val) - _speed_)\n",
        "    _dist_ = _speed_ * _hold_\n",
        "\n",
        "\n",
        "\n",
        "    if _dist_ > int(dist_val):\n",
        "      _all_.append(_dist_)\n",
        "\n",
        "  for g, h in enumerate(_all_):\n",
        "    ans_part = g + 1\n",
        "\n",
        "  return ans_part\n",
        "\n",
        "print(f\"\"\"\n",
        "Part 1:\n",
        "{race_breaker(times[1][0], distances[1][0])\n",
        "  * race_breaker(times[1][1], distances[1][1])\n",
        "  * race_breaker(times[1][2], distances[1][2])\n",
        "  * race_breaker(times[1][3], distances[1][3])}\n",
        "      \"\"\")"
      ],
      "metadata": {
        "colab": {
          "base_uri": "https://localhost:8080/"
        },
        "id": "nCrqFpliNz8c",
        "outputId": "308af59c-0814-40d6-c988-151e5276c3f0"
      },
      "execution_count": null,
      "outputs": [
        {
          "output_type": "stream",
          "name": "stdout",
          "text": [
            "\n",
            "Part 1:\n",
            "781200\n",
            "      \n"
          ]
        }
      ]
    },
    {
      "cell_type": "markdown",
      "source": [
        "Part 2"
      ],
      "metadata": {
        "id": "M-QFmiCqy1bN"
      }
    },
    {
      "cell_type": "code",
      "source": [
        "import re\n",
        "document = open(\"drive/MyDrive/Advent of Code 2023/2023day6.txt\", \"r\").read()\n",
        "\n",
        "split_ = document.split(\"\\n\")\n",
        "\n",
        "times = []\n",
        "distances = []\n",
        "\n",
        "time = split_[0].split(\":\")\n",
        "distance = split_[1].split(\":\")\n",
        "\n",
        "for x in time:\n",
        "  nums = re.findall(\"(\\d+)\", x)\n",
        "  times.append(nums)\n",
        "\n",
        "for y in distance:\n",
        "  nums_ = re.findall(\"(\\d+)\", y)\n",
        "  distances.append(nums_)\n",
        "\n",
        "fin_t = int(times[1][0] + times[1][1] + times[1][2] + times[1][3])\n",
        "fin_d = int(distances[1][0] + distances[1][1] + distances[1][2] + distances[1][3])\n",
        "\n",
        "print(f\"Part 2: {race_breaker(fin_t, fin_d)}\")"
      ],
      "metadata": {
        "colab": {
          "base_uri": "https://localhost:8080/"
        },
        "id": "8lGKTL5iQ9Bl",
        "outputId": "5c3326fe-cdc6-42c3-a12a-39a42bfb6f88"
      },
      "execution_count": null,
      "outputs": [
        {
          "output_type": "stream",
          "name": "stdout",
          "text": [
            "Part 2: 49240091\n"
          ]
        }
      ]
    },
    {
      "cell_type": "markdown",
      "source": [
        "## Day 7"
      ],
      "metadata": {
        "id": "YV7Qe6qFgBti"
      }
    },
    {
      "cell_type": "markdown",
      "source": [
        "Part 1"
      ],
      "metadata": {
        "id": "DZdowAu7gERF"
      }
    },
    {
      "cell_type": "code",
      "source": [
        "import numpy as np\n",
        "from collections import Counter, defaultdict\n",
        "from functools import cmp_to_key\n"
      ],
      "metadata": {
        "id": "F9I87XYHwdfh"
      },
      "execution_count": null,
      "outputs": []
    },
    {
      "cell_type": "code",
      "source": [
        "import numpy as np\n",
        "from collections import Counter, defaultdict\n",
        "from functools import cmp_to_key\n",
        "document = open(\"drive/MyDrive/Advent of Code 2023/2023day7.txt\", \"r\").read()\n",
        "\n",
        "lines = document.strip().split(\"\\n\")\n",
        "\n",
        "def get_type(hand):\n",
        "  counts = defaultdict(int)\n",
        "  for card in hand:\n",
        "    counts[card] += 1\n",
        "\n",
        "  amounts = sorted(counts.values())\n",
        "  if amounts == [5]:\n",
        "    return 5\n",
        "  if amounts == [1, 4]:\n",
        "    return 4\n",
        "  if amounts == [2, 3]:\n",
        "    return 3.5\n",
        "  if amounts == [1, 1, 3]:\n",
        "    return 3\n",
        "  if amounts == [1, 2, 2]:\n",
        "    return 2.5\n",
        "  if amounts == [1, 1, 1, 2]:\n",
        "    return 2\n",
        "  return 1\n",
        "\n",
        "labels = \"AKQJT98765432\"\n",
        "\n",
        "def compare(a, b):\n",
        "  #a and b are two hands\n",
        "  rankA = (get_type(a), a)\n",
        "  rankB = (get_type(b), b)\n",
        "  if rankA[0] == rankB[0]:\n",
        "    if a == b:\n",
        "      return 0\n",
        "    for i, j in zip(a, b):\n",
        "      if labels.index(i) < labels.index(j):\n",
        "        return 1\n",
        "      if labels.index(i) > labels.index(j):\n",
        "        return -1\n",
        "    return -1\n",
        "  if rankA[0] > rankB[0]:\n",
        "    return 1\n",
        "  return -1\n",
        "\n",
        "\n",
        "line_list = []\n",
        "for line in lines:\n",
        "  line = line.split()\n",
        "  line_list.append((line[0], int(line[1])))\n",
        "\n",
        "line_list = sorted(line_list, key=cmp_to_key(lambda x, y: compare(x[0], y[0])))\n",
        "ans = 0\n",
        "for i, line in enumerate(line_list):\n",
        "  ans += (i + 1) * line[1]\n",
        "\n",
        "print(ans)"
      ],
      "metadata": {
        "colab": {
          "base_uri": "https://localhost:8080/"
        },
        "id": "aE20jydoS6Rk",
        "outputId": "d17d2822-2c1b-4f97-d116-d6754c829370"
      },
      "execution_count": 7,
      "outputs": [
        {
          "output_type": "stream",
          "name": "stdout",
          "text": [
            "248105065\n"
          ]
        }
      ]
    },
    {
      "cell_type": "markdown",
      "source": [
        "Part 2"
      ],
      "metadata": {
        "id": "CUdrsV12gF1m"
      }
    },
    {
      "cell_type": "code",
      "source": [
        "import numpy as np\n",
        "from collections import Counter, defaultdict\n",
        "from functools import cmp_to_key\n",
        "document = open(\"drive/MyDrive/Advent of Code 2023/2023day7.txt\", \"r\").read()\n",
        "\n",
        "lines = document.strip().split(\"\\n\")\n",
        "\n",
        "\n",
        "def get_type(hand):\n",
        "  counts = defaultdict(int)\n",
        "  jokers = 0\n",
        "  for card in hand:\n",
        "    if card == \"J\":\n",
        "      jokers += 1\n",
        "    else:\n",
        "      counts[card] += 1\n",
        "\n",
        "  amounts = sorted(counts.values())\n",
        "  if jokers >= 5 or amounts[-1] + jokers >= 5:\n",
        "    return 5\n",
        "  if jokers >= 4 or amounts[-1] + jokers >= 4:\n",
        "    return 4\n",
        "\n",
        "  #full house\n",
        "  if amounts[-1] + jokers >= 3:\n",
        "    rem_jokers = amounts[-1] + jokers - 3\n",
        "    if len(amounts) >= 2 and amounts[-2] + rem_jokers >= 2 or rem_jokers >= 2:\n",
        "      return 3.5\n",
        "    return 3\n",
        "\n",
        "  if amounts[-1] + jokers >= 2:\n",
        "    rem_jokers = amounts[-1] + jokers - 2\n",
        "    if len(amounts) >= 2 and amounts[-2] + rem_jokers >= 2 or rem_jokers >= 2:\n",
        "      return 2.5\n",
        "    return 2\n",
        "\n",
        "  return 1\n",
        "\n",
        "labels = \"AKQT98765432J\"\n",
        "\n",
        "def compare(a, b):\n",
        "  #a and b are two hands\n",
        "  rankA = (get_type(a), a)\n",
        "  rankB = (get_type(b), b)\n",
        "  if rankA[0] == rankB[0]:\n",
        "    if a == b:\n",
        "      return 0\n",
        "    for i, j in zip(a, b):\n",
        "      if labels.index(i) < labels.index(j):\n",
        "        return 1\n",
        "      if labels.index(i) > labels.index(j):\n",
        "        return -1\n",
        "    return -1\n",
        "  if rankA[0] > rankB[0]:\n",
        "    return 1\n",
        "  return -1\n",
        "\n",
        "\n",
        "lines_list = []\n",
        "for line in lines:\n",
        "  line = line.split()\n",
        "  lines_list.append((line[0], int(line[1])))\n",
        "\n",
        "\n",
        "lines_list = sorted(lines_list, key=cmp_to_key(lambda x, y: compare(x[0], y[0])))\n",
        "ans = 0\n",
        "for i, line in enumerate(lines_list):\n",
        "  ans += (i + 1) * line[1]\n",
        "\n",
        "print(ans)"
      ],
      "metadata": {
        "colab": {
          "base_uri": "https://localhost:8080/"
        },
        "id": "XUCnqgRMXR_b",
        "outputId": "37a3a204-dedf-4ee6-d8fd-823cd4fe9e49"
      },
      "execution_count": null,
      "outputs": [
        {
          "output_type": "stream",
          "name": "stdout",
          "text": [
            "249515436\n"
          ]
        }
      ]
    },
    {
      "cell_type": "markdown",
      "source": [
        "## Day 8"
      ],
      "metadata": {
        "id": "Lmqm-BLBbhXM"
      }
    },
    {
      "cell_type": "markdown",
      "source": [
        "Part 1"
      ],
      "metadata": {
        "id": "7raVVBRsbjQ_"
      }
    },
    {
      "cell_type": "code",
      "source": [
        "document = open(\"drive/MyDrive/Advent of Code 2023/2023day8.txt\", \"r\").read()\n",
        "\n",
        "lines = document.strip().split(\"\\n\")\n",
        "stratttt = lines[2:]\n",
        "directions_through_desert = lines[0]\n",
        "\n",
        "rastarank = \"ABCDEFGHIJKLMNOPQRSTUVWXYZ\"\n",
        "\n",
        "for way in stratttt:\n",
        "  way.strip().split(\"=\")\n",
        "  print(way)\n",
        "#for letterdirection in directions_through_desert:\n",
        "print(stratttt)"
      ],
      "metadata": {
        "id": "PLsWHhCHbkji"
      },
      "execution_count": null,
      "outputs": []
    },
    {
      "cell_type": "markdown",
      "source": [
        "Part 2"
      ],
      "metadata": {
        "id": "yNEfRwH-bk6b"
      }
    },
    {
      "cell_type": "code",
      "source": [],
      "metadata": {
        "id": "tYib1IVwbmMl"
      },
      "execution_count": null,
      "outputs": []
    }
  ]
}